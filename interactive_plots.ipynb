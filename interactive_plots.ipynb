{
 "cells": [
  {
   "cell_type": "markdown",
   "id": "fe55fb16-c2ab-48ba-bfa5-92a2c42b848b",
   "metadata": {},
   "source": [
    "# Examples of interactive plots for pydemic  "
   ]
  },
  {
   "cell_type": "code",
   "execution_count": null,
   "id": "c941ddf1-d8ba-49d4-a448-7920edb80128",
   "metadata": {},
   "outputs": [],
   "source": [
    "import xarray as xr\n",
    "import pandas as pd\n",
    "import hvplot.xarray\n",
    "import hvplot.pandas\n",
    "import holoviews as hv\n",
    "from pydemic import game"
   ]
  },
  {
   "cell_type": "code",
   "execution_count": null,
   "id": "4d71015a-6e78-45cb-9e7c-350d6c6401bf",
   "metadata": {},
   "outputs": [],
   "source": [
    "ds1 = game(seed=1, log=False)\n",
    "ds2 = game(seed=1, movemax=2, log=False)"
   ]
  },
  {
   "cell_type": "markdown",
   "id": "6977bb40-d8f3-4277-b9b6-3a53f3109c4f",
   "metadata": {},
   "source": [
    "## Line plots  "
   ]
  },
  {
   "cell_type": "code",
   "execution_count": null,
   "id": "d4c3a2e7-1346-4fed-be9d-e4bc786892fa",
   "metadata": {},
   "outputs": [],
   "source": [
    "ds1.n_infected.hvplot.line(label='movemax: 5') * ds2.n_infected.hvplot.line(label='movemax: 2')"
   ]
  },
  {
   "cell_type": "markdown",
   "id": "0daf9b93-15b9-472f-9d56-a8b9a1171dbf",
   "metadata": {},
   "source": [
    "## Gridded plots "
   ]
  },
  {
   "cell_type": "code",
   "execution_count": null,
   "id": "ee2bb7ad-23cc-42a8-b8d1-125db1ef48ef",
   "metadata": {},
   "outputs": [],
   "source": [
    "# We coarsen the grid to simplify the information\n",
    "cd1 = ds1.contagious_density.coarsen(x=5, y=5).sum()\n",
    "id1 = ds1.immune_density.coarsen(x=5, y=5).sum()\n",
    "vd1 = ds1.agent_density.coarsen(x=5, y=5).sum() - id1\n",
    "\n",
    "cd2 = ds2.contagious_density.coarsen(x=5, y=5).sum()\n",
    "id2 = ds2.immune_density.coarsen(x=5, y=5).sum()\n",
    "vd2 = ds2.agent_density.coarsen(x=5, y=5).sum() - id2"
   ]
  },
  {
   "cell_type": "markdown",
   "id": "a888d524-70ce-4036-a935-089e9ec00391",
   "metadata": {},
   "source": [
    "### Animation with player "
   ]
  },
  {
   "cell_type": "code",
   "execution_count": null,
   "id": "f6795efa-1e37-4024-b6cb-87d5710ff62a",
   "metadata": {},
   "outputs": [],
   "source": [
    "cd1.hvplot(groupby='time', frame_width=300, aspect=1, cmap='blues', clim=(0, 30), \n",
    "           widget_type='scrubber', widget_location='bottom')"
   ]
  },
  {
   "cell_type": "markdown",
   "id": "a29929a3-6e5b-4e8e-ab41-b1ae8d9ba4ef",
   "metadata": {},
   "source": [
    "### Animation with slider "
   ]
  },
  {
   "cell_type": "code",
   "execution_count": null,
   "id": "939e8661-77f7-4619-9210-011cd1721937",
   "metadata": {},
   "outputs": [],
   "source": [
    "(cd1.hvplot(groupby='time', frame_width=300, aspect=1, cmap='blues', clim=(0, 30), title='Contagious density') + \n",
    " id1.hvplot(groupby='time', frame_width=300, aspect=1, cmap='blues', clim=(0, 30), title='Immune density'))"
   ]
  },
  {
   "cell_type": "code",
   "execution_count": null,
   "id": "2c918260-dca4-431e-883e-0599c7d14a2f",
   "metadata": {},
   "outputs": [],
   "source": [
    "(cd1.hvplot(groupby='time', frame_width=200, aspect=1, cmap='blues', clim=(0, 30), title='Contagious density') + \n",
    " id1.hvplot(groupby='time', frame_width=200, aspect=1, cmap='blues', clim=(0, 30), title='Immune density') + \n",
    " vd1.hvplot(groupby='time', frame_width=200, aspect=1, cmap='blues', clim=(0, 30), title='Vulnerable density'))"
   ]
  },
  {
   "cell_type": "code",
   "execution_count": null,
   "id": "bd7ea6dc-5f58-4d15-890c-5361f4f0b40f",
   "metadata": {},
   "outputs": [],
   "source": [
    "(cd1.hvplot(groupby='time', frame_width=300, aspect=1, cmap='blues', clim=(0, 30), title='Contagious density (movemax=5)') + \n",
    " cd2.hvplot(groupby='time', frame_width=300, aspect=1, cmap='blues', clim=(0, 30), title='Contagious density (movemax=2)'))"
   ]
  },
  {
   "cell_type": "code",
   "execution_count": null,
   "id": "48afcb86-f9d2-499f-ab94-9b808dcef23d",
   "metadata": {},
   "outputs": [],
   "source": [
    "plot1 = [cd1.hvplot(groupby='time', frame_width=300, aspect=1, cmap='blues', clim=(0, 30), title='Contagious density (movemax=5)'), \n",
    "         id1.hvplot(groupby='time', frame_width=300, aspect=1, cmap='blues', clim=(0, 30), title='Immune density (movemax=5)')]\n",
    "\n",
    "plot2 = [cd2.hvplot(groupby='time', frame_width=300, aspect=1, cmap='blues', clim=(0, 30), title='Contagious density (movemax=2)'), \n",
    "         id2.hvplot(groupby='time', frame_width=300, aspect=1, cmap='blues', clim=(0, 30), title='Immune density (movemax=5)')]\n",
    "\n",
    "layout = hv.Layout(plot1 + plot2).cols(2)\n",
    "layout"
   ]
  }
 ],
 "metadata": {
  "kernelspec": {
   "display_name": "Python 3 (ipykernel)",
   "language": "python",
   "name": "python3"
  },
  "language_info": {
   "codemirror_mode": {
    "name": "ipython",
    "version": 3
   },
   "file_extension": ".py",
   "mimetype": "text/x-python",
   "name": "python",
   "nbconvert_exporter": "python",
   "pygments_lexer": "ipython3",
   "version": "3.9.7"
  }
 },
 "nbformat": 4,
 "nbformat_minor": 5
}
